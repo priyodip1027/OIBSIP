{
 "cells": [
  {
   "cell_type": "code",
   "execution_count": 66,
   "metadata": {
    "_cell_guid": "b1076dfc-b9ad-4769-8c92-a6c4dae69d19",
    "_uuid": "8f2839f25d086af736a60e9eeb907d3b93b6e0e5"
   },
   "outputs": [],
   "source": [
    "import numpy as np \n",
    "import pandas as pd "
   ]
  },
  {
   "cell_type": "code",
   "execution_count": 67,
   "metadata": {
    "_cell_guid": "79c7e3d0-c299-4dcb-8224-4455121ee9b0",
    "_uuid": "d629ff2d2480ee46fbb7e2d37f6b5fab8052498a"
   },
   "outputs": [],
   "source": [
    "menu = pd.read_csv('menu.csv')"
   ]
  },
  {
   "cell_type": "code",
   "execution_count": 68,
   "metadata": {},
   "outputs": [
    {
     "data": {
      "text/plain": [
       "(260, 24)"
      ]
     },
     "execution_count": 68,
     "metadata": {},
     "output_type": "execute_result"
    }
   ],
   "source": [
    "menu.shape"
   ]
  },
  {
   "cell_type": "code",
   "execution_count": 69,
   "metadata": {},
   "outputs": [
    {
     "data": {
      "text/html": [
       "<div>\n",
       "<style scoped>\n",
       "    .dataframe tbody tr th:only-of-type {\n",
       "        vertical-align: middle;\n",
       "    }\n",
       "\n",
       "    .dataframe tbody tr th {\n",
       "        vertical-align: top;\n",
       "    }\n",
       "\n",
       "    .dataframe thead th {\n",
       "        text-align: right;\n",
       "    }\n",
       "</style>\n",
       "<table border=\"1\" class=\"dataframe\">\n",
       "  <thead>\n",
       "    <tr style=\"text-align: right;\">\n",
       "      <th></th>\n",
       "      <th>Category</th>\n",
       "      <th>Item</th>\n",
       "      <th>Serving Size</th>\n",
       "      <th>Calories</th>\n",
       "      <th>Calories from Fat</th>\n",
       "      <th>Total Fat</th>\n",
       "      <th>Total Fat (% Daily Value)</th>\n",
       "      <th>Saturated Fat</th>\n",
       "      <th>Saturated Fat (% Daily Value)</th>\n",
       "      <th>Trans Fat</th>\n",
       "      <th>...</th>\n",
       "      <th>Carbohydrates</th>\n",
       "      <th>Carbohydrates (% Daily Value)</th>\n",
       "      <th>Dietary Fiber</th>\n",
       "      <th>Dietary Fiber (% Daily Value)</th>\n",
       "      <th>Sugars</th>\n",
       "      <th>Protein</th>\n",
       "      <th>Vitamin A (% Daily Value)</th>\n",
       "      <th>Vitamin C (% Daily Value)</th>\n",
       "      <th>Calcium (% Daily Value)</th>\n",
       "      <th>Iron (% Daily Value)</th>\n",
       "    </tr>\n",
       "  </thead>\n",
       "  <tbody>\n",
       "    <tr>\n",
       "      <th>86</th>\n",
       "      <td>Salads</td>\n",
       "      <td>Premium Bacon Ranch Salad with Grilled Chicken</td>\n",
       "      <td>8.5 oz (241 g)</td>\n",
       "      <td>220</td>\n",
       "      <td>80</td>\n",
       "      <td>8.0</td>\n",
       "      <td>13</td>\n",
       "      <td>4.0</td>\n",
       "      <td>20</td>\n",
       "      <td>0.0</td>\n",
       "      <td>...</td>\n",
       "      <td>8</td>\n",
       "      <td>3</td>\n",
       "      <td>2</td>\n",
       "      <td>10</td>\n",
       "      <td>4</td>\n",
       "      <td>29</td>\n",
       "      <td>110</td>\n",
       "      <td>30</td>\n",
       "      <td>15</td>\n",
       "      <td>8</td>\n",
       "    </tr>\n",
       "    <tr>\n",
       "      <th>46</th>\n",
       "      <td>Beef &amp; Pork</td>\n",
       "      <td>Quarter Pounder Deluxe</td>\n",
       "      <td>8.6 oz (244 g)</td>\n",
       "      <td>540</td>\n",
       "      <td>250</td>\n",
       "      <td>27.0</td>\n",
       "      <td>42</td>\n",
       "      <td>11.0</td>\n",
       "      <td>54</td>\n",
       "      <td>1.5</td>\n",
       "      <td>...</td>\n",
       "      <td>45</td>\n",
       "      <td>15</td>\n",
       "      <td>3</td>\n",
       "      <td>13</td>\n",
       "      <td>9</td>\n",
       "      <td>29</td>\n",
       "      <td>10</td>\n",
       "      <td>8</td>\n",
       "      <td>25</td>\n",
       "      <td>30</td>\n",
       "    </tr>\n",
       "    <tr>\n",
       "      <th>59</th>\n",
       "      <td>Chicken &amp; Fish</td>\n",
       "      <td>Premium Crispy Chicken Club Sandwich</td>\n",
       "      <td>8.8 oz (249 g)</td>\n",
       "      <td>670</td>\n",
       "      <td>300</td>\n",
       "      <td>33.0</td>\n",
       "      <td>51</td>\n",
       "      <td>9.0</td>\n",
       "      <td>44</td>\n",
       "      <td>0.0</td>\n",
       "      <td>...</td>\n",
       "      <td>58</td>\n",
       "      <td>19</td>\n",
       "      <td>3</td>\n",
       "      <td>14</td>\n",
       "      <td>11</td>\n",
       "      <td>36</td>\n",
       "      <td>8</td>\n",
       "      <td>20</td>\n",
       "      <td>30</td>\n",
       "      <td>20</td>\n",
       "    </tr>\n",
       "    <tr>\n",
       "      <th>85</th>\n",
       "      <td>Salads</td>\n",
       "      <td>Premium Bacon Ranch Salad with Crispy Chicken</td>\n",
       "      <td>9 oz (255 g)</td>\n",
       "      <td>380</td>\n",
       "      <td>190</td>\n",
       "      <td>21.0</td>\n",
       "      <td>33</td>\n",
       "      <td>6.0</td>\n",
       "      <td>29</td>\n",
       "      <td>0.0</td>\n",
       "      <td>...</td>\n",
       "      <td>22</td>\n",
       "      <td>7</td>\n",
       "      <td>2</td>\n",
       "      <td>10</td>\n",
       "      <td>5</td>\n",
       "      <td>25</td>\n",
       "      <td>100</td>\n",
       "      <td>25</td>\n",
       "      <td>15</td>\n",
       "      <td>8</td>\n",
       "    </tr>\n",
       "    <tr>\n",
       "      <th>27</th>\n",
       "      <td>Breakfast</td>\n",
       "      <td>Big Breakfast (Regular Biscuit)</td>\n",
       "      <td>9.5 oz (269 g)</td>\n",
       "      <td>740</td>\n",
       "      <td>430</td>\n",
       "      <td>48.0</td>\n",
       "      <td>73</td>\n",
       "      <td>17.0</td>\n",
       "      <td>87</td>\n",
       "      <td>0.0</td>\n",
       "      <td>...</td>\n",
       "      <td>51</td>\n",
       "      <td>17</td>\n",
       "      <td>3</td>\n",
       "      <td>12</td>\n",
       "      <td>3</td>\n",
       "      <td>28</td>\n",
       "      <td>15</td>\n",
       "      <td>2</td>\n",
       "      <td>15</td>\n",
       "      <td>25</td>\n",
       "    </tr>\n",
       "    <tr>\n",
       "      <th>51</th>\n",
       "      <td>Beef &amp; Pork</td>\n",
       "      <td>Bacon Clubhouse Burger</td>\n",
       "      <td>9.5 oz (270 g)</td>\n",
       "      <td>720</td>\n",
       "      <td>360</td>\n",
       "      <td>40.0</td>\n",
       "      <td>62</td>\n",
       "      <td>15.0</td>\n",
       "      <td>75</td>\n",
       "      <td>1.5</td>\n",
       "      <td>...</td>\n",
       "      <td>51</td>\n",
       "      <td>17</td>\n",
       "      <td>4</td>\n",
       "      <td>14</td>\n",
       "      <td>14</td>\n",
       "      <td>39</td>\n",
       "      <td>8</td>\n",
       "      <td>25</td>\n",
       "      <td>30</td>\n",
       "      <td>25</td>\n",
       "    </tr>\n",
       "    <tr>\n",
       "      <th>64</th>\n",
       "      <td>Chicken &amp; Fish</td>\n",
       "      <td>Bacon Clubhouse Grilled Chicken Sandwich</td>\n",
       "      <td>9.5 oz (270 g)</td>\n",
       "      <td>590</td>\n",
       "      <td>230</td>\n",
       "      <td>25.0</td>\n",
       "      <td>39</td>\n",
       "      <td>8.0</td>\n",
       "      <td>42</td>\n",
       "      <td>0.0</td>\n",
       "      <td>...</td>\n",
       "      <td>51</td>\n",
       "      <td>17</td>\n",
       "      <td>4</td>\n",
       "      <td>15</td>\n",
       "      <td>14</td>\n",
       "      <td>40</td>\n",
       "      <td>8</td>\n",
       "      <td>30</td>\n",
       "      <td>30</td>\n",
       "      <td>15</td>\n",
       "    </tr>\n",
       "    <tr>\n",
       "      <th>41</th>\n",
       "      <td>Breakfast</td>\n",
       "      <td>Fruit &amp; Maple Oatmeal without Brown Sugar</td>\n",
       "      <td>9.6 oz (251 g)</td>\n",
       "      <td>260</td>\n",
       "      <td>40</td>\n",
       "      <td>4.0</td>\n",
       "      <td>6</td>\n",
       "      <td>1.5</td>\n",
       "      <td>8</td>\n",
       "      <td>0.0</td>\n",
       "      <td>...</td>\n",
       "      <td>49</td>\n",
       "      <td>16</td>\n",
       "      <td>5</td>\n",
       "      <td>22</td>\n",
       "      <td>18</td>\n",
       "      <td>5</td>\n",
       "      <td>2</td>\n",
       "      <td>130</td>\n",
       "      <td>6</td>\n",
       "      <td>10</td>\n",
       "    </tr>\n",
       "    <tr>\n",
       "      <th>40</th>\n",
       "      <td>Breakfast</td>\n",
       "      <td>Fruit &amp; Maple Oatmeal</td>\n",
       "      <td>9.6 oz (251 g)</td>\n",
       "      <td>290</td>\n",
       "      <td>35</td>\n",
       "      <td>4.0</td>\n",
       "      <td>6</td>\n",
       "      <td>1.5</td>\n",
       "      <td>8</td>\n",
       "      <td>0.0</td>\n",
       "      <td>...</td>\n",
       "      <td>58</td>\n",
       "      <td>19</td>\n",
       "      <td>5</td>\n",
       "      <td>19</td>\n",
       "      <td>32</td>\n",
       "      <td>5</td>\n",
       "      <td>2</td>\n",
       "      <td>130</td>\n",
       "      <td>10</td>\n",
       "      <td>10</td>\n",
       "    </tr>\n",
       "    <tr>\n",
       "      <th>29</th>\n",
       "      <td>Breakfast</td>\n",
       "      <td>Big Breakfast with Egg Whites (Regular Biscuit)</td>\n",
       "      <td>9.6 oz (272 g)</td>\n",
       "      <td>640</td>\n",
       "      <td>330</td>\n",
       "      <td>37.0</td>\n",
       "      <td>57</td>\n",
       "      <td>14.0</td>\n",
       "      <td>69</td>\n",
       "      <td>0.0</td>\n",
       "      <td>...</td>\n",
       "      <td>50</td>\n",
       "      <td>17</td>\n",
       "      <td>3</td>\n",
       "      <td>12</td>\n",
       "      <td>3</td>\n",
       "      <td>26</td>\n",
       "      <td>0</td>\n",
       "      <td>2</td>\n",
       "      <td>10</td>\n",
       "      <td>15</td>\n",
       "    </tr>\n",
       "  </tbody>\n",
       "</table>\n",
       "<p>10 rows × 24 columns</p>\n",
       "</div>"
      ],
      "text/plain": [
       "          Category                                             Item  \\\n",
       "86          Salads   Premium Bacon Ranch Salad with Grilled Chicken   \n",
       "46     Beef & Pork                           Quarter Pounder Deluxe   \n",
       "59  Chicken & Fish             Premium Crispy Chicken Club Sandwich   \n",
       "85          Salads    Premium Bacon Ranch Salad with Crispy Chicken   \n",
       "27       Breakfast                  Big Breakfast (Regular Biscuit)   \n",
       "51     Beef & Pork                           Bacon Clubhouse Burger   \n",
       "64  Chicken & Fish         Bacon Clubhouse Grilled Chicken Sandwich   \n",
       "41       Breakfast        Fruit & Maple Oatmeal without Brown Sugar   \n",
       "40       Breakfast                            Fruit & Maple Oatmeal   \n",
       "29       Breakfast  Big Breakfast with Egg Whites (Regular Biscuit)   \n",
       "\n",
       "      Serving Size  Calories  Calories from Fat  Total Fat  \\\n",
       "86  8.5 oz (241 g)       220                 80        8.0   \n",
       "46  8.6 oz (244 g)       540                250       27.0   \n",
       "59  8.8 oz (249 g)       670                300       33.0   \n",
       "85    9 oz (255 g)       380                190       21.0   \n",
       "27  9.5 oz (269 g)       740                430       48.0   \n",
       "51  9.5 oz (270 g)       720                360       40.0   \n",
       "64  9.5 oz (270 g)       590                230       25.0   \n",
       "41  9.6 oz (251 g)       260                 40        4.0   \n",
       "40  9.6 oz (251 g)       290                 35        4.0   \n",
       "29  9.6 oz (272 g)       640                330       37.0   \n",
       "\n",
       "    Total Fat (% Daily Value)  Saturated Fat  Saturated Fat (% Daily Value)  \\\n",
       "86                         13            4.0                             20   \n",
       "46                         42           11.0                             54   \n",
       "59                         51            9.0                             44   \n",
       "85                         33            6.0                             29   \n",
       "27                         73           17.0                             87   \n",
       "51                         62           15.0                             75   \n",
       "64                         39            8.0                             42   \n",
       "41                          6            1.5                              8   \n",
       "40                          6            1.5                              8   \n",
       "29                         57           14.0                             69   \n",
       "\n",
       "    Trans Fat  ...  Carbohydrates  Carbohydrates (% Daily Value)  \\\n",
       "86        0.0  ...              8                              3   \n",
       "46        1.5  ...             45                             15   \n",
       "59        0.0  ...             58                             19   \n",
       "85        0.0  ...             22                              7   \n",
       "27        0.0  ...             51                             17   \n",
       "51        1.5  ...             51                             17   \n",
       "64        0.0  ...             51                             17   \n",
       "41        0.0  ...             49                             16   \n",
       "40        0.0  ...             58                             19   \n",
       "29        0.0  ...             50                             17   \n",
       "\n",
       "    Dietary Fiber  Dietary Fiber (% Daily Value)  Sugars  Protein  \\\n",
       "86              2                             10       4       29   \n",
       "46              3                             13       9       29   \n",
       "59              3                             14      11       36   \n",
       "85              2                             10       5       25   \n",
       "27              3                             12       3       28   \n",
       "51              4                             14      14       39   \n",
       "64              4                             15      14       40   \n",
       "41              5                             22      18        5   \n",
       "40              5                             19      32        5   \n",
       "29              3                             12       3       26   \n",
       "\n",
       "    Vitamin A (% Daily Value)  Vitamin C (% Daily Value)  \\\n",
       "86                        110                         30   \n",
       "46                         10                          8   \n",
       "59                          8                         20   \n",
       "85                        100                         25   \n",
       "27                         15                          2   \n",
       "51                          8                         25   \n",
       "64                          8                         30   \n",
       "41                          2                        130   \n",
       "40                          2                        130   \n",
       "29                          0                          2   \n",
       "\n",
       "    Calcium (% Daily Value)  Iron (% Daily Value)  \n",
       "86                       15                     8  \n",
       "46                       25                    30  \n",
       "59                       30                    20  \n",
       "85                       15                     8  \n",
       "27                       15                    25  \n",
       "51                       30                    25  \n",
       "64                       30                    15  \n",
       "41                        6                    10  \n",
       "40                       10                    10  \n",
       "29                       10                    15  \n",
       "\n",
       "[10 rows x 24 columns]"
      ]
     },
     "execution_count": 69,
     "metadata": {},
     "output_type": "execute_result"
    }
   ],
   "source": [
    "menu.sort_values('Serving Size' ).tail(10)"
   ]
  },
  {
   "cell_type": "code",
   "execution_count": 70,
   "metadata": {},
   "outputs": [
    {
     "data": {
      "text/plain": [
       "'McFlurry with M&M’s Candies (Medium)'"
      ]
     },
     "execution_count": 70,
     "metadata": {},
     "output_type": "execute_result"
    }
   ],
   "source": [
    "menu.loc[ menu.Sugars.idxmax() ].Item"
   ]
  },
  {
   "cell_type": "markdown",
   "metadata": {},
   "source": [
    "With the loc method, you can also locate data from an index using the set_index. After specifying the index to search from, you specifcy the value within the the index that you are looking for, as well as the column from which you want to extract data. "
   ]
  },
  {
   "cell_type": "code",
   "execution_count": 71,
   "metadata": {},
   "outputs": [
    {
     "data": {
      "text/plain": [
       "300"
      ]
     },
     "execution_count": 71,
     "metadata": {},
     "output_type": "execute_result"
    }
   ],
   "source": [
    "menu.set_index('Item').loc['Egg McMuffin', 'Calories']"
   ]
  },
  {
   "cell_type": "markdown",
   "metadata": {},
   "source": [
    "The value_counts() method will return the sizes of each group.  \n",
    "Lets pretend that we have a dataset of all students at the University of Southern California. The data set is called \"students\" and we have data on their class, GPA, and student ID numbers.  The code \"students.Class.value_counts()\" will return the number of students in each class. "
   ]
  },
  {
   "cell_type": "code",
   "execution_count": 72,
   "metadata": {},
   "outputs": [
    {
     "data": {
      "text/plain": [
       "Category\n",
       "Coffee & Tea          95\n",
       "Breakfast             42\n",
       "Smoothies & Shakes    28\n",
       "Chicken & Fish        27\n",
       "Beverages             27\n",
       "Beef & Pork           15\n",
       "Snacks & Sides        13\n",
       "Desserts               7\n",
       "Salads                 6\n",
       "Name: count, dtype: int64"
      ]
     },
     "execution_count": 72,
     "metadata": {},
     "output_type": "execute_result"
    }
   ],
   "source": [
    "menu.Category.value_counts()"
   ]
  },
  {
   "cell_type": "code",
   "execution_count": 73,
   "metadata": {},
   "outputs": [
    {
     "data": {
      "text/plain": [
       "Category\n",
       "Beef & Pork           494.00\n",
       "Beverages             113.70\n",
       "Breakfast             526.67\n",
       "Chicken & Fish        552.96\n",
       "Coffee & Tea          283.89\n",
       "Desserts              222.14\n",
       "Salads                270.00\n",
       "Smoothies & Shakes    531.43\n",
       "Snacks & Sides        245.77\n",
       "Name: Calories, dtype: float64"
      ]
     },
     "execution_count": 73,
     "metadata": {},
     "output_type": "execute_result"
    }
   ],
   "source": [
    "menu.groupby(\"Category\").Calories.mean().round(2)"
   ]
  },
  {
   "cell_type": "code",
   "execution_count": 74,
   "metadata": {},
   "outputs": [
    {
     "data": {
      "text/plain": [
       "<Axes: xlabel='Carbohydrates', ylabel='Total Fat'>"
      ]
     },
     "execution_count": 74,
     "metadata": {},
     "output_type": "execute_result"
    },
    {
     "data": {
      "image/png": "[encoded data removed]",
      "text/plain": [
       "<Figure size 640x480 with 1 Axes>"
      ]
     },
     "metadata": {},
     "output_type": "display_data"
    }
   ],
   "source": [
    "menu.plot.scatter(x='Carbohydrates', y='Total Fat')"
   ]
  },
  {
   "cell_type": "code",
   "execution_count": 75,
   "metadata": {},
   "outputs": [
    {
     "data": {
      "text/plain": [
       "<Axes: ylabel='count'>"
      ]
     },
     "execution_count": 75,
     "metadata": {},
     "output_type": "execute_result"
    },
    {
     "data": {
      "image/png": "[encoded data removed]",
      "text/plain": [
       "<Figure size 640x480 with 1 Axes>"
      ]
     },
     "metadata": {},
     "output_type": "display_data"
    }
   ],
   "source": [
    "menu.Category.value_counts().plot.pie()"
   ]
  }
 ],
 "metadata": {
  "kernelspec": {
   "display_name": "Python 3 (ipykernel)",
   "language": "python",
   "name": "python3"
  },
  "language_info": {
   "codemirror_mode": {
    "name": "ipython",
    "version": 3
   },
   "file_extension": ".py",
   "mimetype": "text/x-python",
   "name": "python",
   "nbconvert_exporter": "python",
   "pygments_lexer": "ipython3",
   "version": "3.11.1"
  }
 },
 "nbformat": 4,
 "nbformat_minor": 4
}
